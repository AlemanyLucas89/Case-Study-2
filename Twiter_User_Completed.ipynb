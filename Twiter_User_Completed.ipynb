{
 "cells": [
  {
   "cell_type": "code",
   "execution_count": null,
   "source": [
    "#Description: The purpose of this report is to build a sentiment anlaysis for three specific stocks, Zack Morris, Will Meade, PJ Matlock, Gary, unusual_whales"
   ],
   "outputs": [],
   "metadata": {}
  },
  {
   "cell_type": "code",
   "execution_count": null,
   "source": [
    "import os\r\n",
    "import requests\r\n",
    "import pandas as pd\r\n",
    "from dotenv import load_dotenv\r\n",
    "import json\r\n",
    "import numpy as np\r\n",
    "import re\r\n",
    "from textblob import TextBlob\r\n",
    "import textblob\r\n",
    "import tweepy\r\n",
    "import datetime, time\r\n",
    "import sys\r\n",
    "import threading\r\n",
    "\r\n",
    "import alpaca_trade_api as tradeapi\r\n",
    "import matplotlib.pyplot as plt4\r\n",
    "from alpaca_trade_api.rest import REST\r\n",
    "%matplotlib inline\r\n",
    "#import alpaca_trade_api as api"
   ],
   "outputs": [],
   "metadata": {}
  },
  {
   "cell_type": "code",
   "execution_count": null,
   "source": [
    "\r\n",
    "# authentication and connection details\r\n",
    "alpaca_api_key = os.getenv(\"ALPACA_API_KEY\")\r\n",
    "alpaca_secret_key = os.getenv(\"ALPACA_SECRET_KEY\")\r\n",
    "base_url = 'https://paper-api.alpaca.markets'\r\n",
    "\r\n",
    "# instantiate REST API\r\n",
    "alpaca_api = tradeapi.REST(alpaca_api_key, alpaca_secret_key, base_url, api_version='v2')\r\n",
    "\r\n",
    "# obtain account information\r\n",
    "account = alpaca_api.get_account()\r\n",
    "print(account)"
   ],
   "outputs": [],
   "metadata": {}
  },
  {
   "cell_type": "code",
   "execution_count": null,
   "source": [
    "load_dotenv()"
   ],
   "outputs": [],
   "metadata": {}
  },
  {
   "cell_type": "code",
   "execution_count": null,
   "source": [
    "consumer_key = os.getenv(\"consumer_key\")\r\n",
    "consumer_secret = os.getenv(\"consumer_secret\")\r\n",
    "Access_Token = os.getenv(\"Access_Token\")\r\n",
    "Access_Token_Secret = os.getenv(\"Access_Token_Secret\")"
   ],
   "outputs": [],
   "metadata": {}
  },
  {
   "cell_type": "code",
   "execution_count": null,
   "source": [
    "auth_handler = tweepy.OAuthHandler(consumer_key, consumer_secret)\r\n",
    "auth_handler.set_access_token(Access_Token, Access_Token_Secret)\r\n",
    "tweepy_api = tweepy.API(auth_handler, wait_on_rate_limit=True)\r\n"
   ],
   "outputs": [],
   "metadata": {}
  },
  {
   "cell_type": "markdown",
   "source": [
    "### Dictionary for Twitter\r\n",
    "\r\n",
    "['__class__', '__delattr__', '__dict__', '__dir__', '__doc__', '__eq__', '__format__', '__ge__', '__getattribute__', '__getstate__', '__gt__', '__hash__', '__init__', '__init_subclass__', '__le__', '__lt__', '__module__', '__ne__', '__new__', '__reduce__', '__reduce_ex__', '__repr__', '__setattr__', '__sizeof__', '__str__', '__subclasshook__', '__weakref__', '_api', '_json', 'author', 'contributors', 'coordinates', 'created_at', 'destroy', 'display_text_range', 'entities', 'favorite', 'favorite_count', 'favorited', 'full_text', 'geo', 'id', 'id_str', 'in_reply_to_screen_name', 'in_reply_to_status_id', 'in_reply_to_status_id_str', 'in_reply_to_user_id', 'in_reply_to_user_id_str', 'is_quote_status', 'lang', 'parse', 'parse_list', 'place', 'possibly_sensitive', 'retweet', 'retweet_count', 'retweeted', 'retweets', 'source', 'source_url', 'truncated', 'user']"
   ],
   "metadata": {}
  },
  {
   "cell_type": "markdown",
   "source": [
    "TweepError: Twitter error response: status code = 404 (means that the ID does not exist)"
   ],
   "metadata": {}
  },
  {
   "cell_type": "code",
   "execution_count": null,
   "source": [
    "#Variables to build the Tweepy Cursor\r\n",
    "tweet_amount = 100\r\n",
    "tweets = []\r\n",
    "likes = []\r\n",
    "time = []\r\n"
   ],
   "outputs": [],
   "metadata": {}
  },
  {
   "cell_type": "markdown",
   "source": [
    "records = []\r\n",
    "for user in users:\r\n",
    "    for tweet in tweets:\r\n",
    "        record['user'] = user\r\n",
    "        record['tweet'] = tweet\r\n",
    "        record['datetime'] = datetime\r\n",
    "        records.append(record)\r\n",
    "        "
   ],
   "metadata": {}
  },
  {
   "cell_type": "code",
   "execution_count": null,
   "source": [
    "def clean_tweet(tweetz):\r\n",
    "    tweetz = tweetz.replace('@', '')\r\n",
    "    tweetz = tweetz.replace('http\\S+', '')\r\n",
    "    return tweetz"
   ],
   "outputs": [],
   "metadata": {}
  },
  {
   "cell_type": "code",
   "execution_count": null,
   "source": [
    "# Loop function to provide the information for the tweets and Like count\r\n",
    "\r\n",
    "records = []\r\n",
    "user_id = ['PJ_Matlock','notoriousalerts','Ultra_Calls']\r\n",
    "for user in user_id:\r\n",
    "    print(user)\r\n",
    "    for i in tweepy.Cursor(tweepy_api.user_timeline, screen_name=user, include_rts=False, tweet_mode='extended').items(tweet_amount):\r\n",
    "        record = {}\r\n",
    "        record['user'] = user\r\n",
    "        record['Tweets'] = clean_tweet(i.full_text)\r\n",
    "        record['favorite_count'] = i.favorite_count\r\n",
    "        record['created_at'] = i.created_at\r\n",
    "        records.append(record)"
   ],
   "outputs": [],
   "metadata": {}
  },
  {
   "cell_type": "code",
   "execution_count": null,
   "source": [
    "tweets_df = pd.DataFrame(records)"
   ],
   "outputs": [],
   "metadata": {}
  },
  {
   "cell_type": "code",
   "execution_count": null,
   "source": [
    "def find_ticker(word):\r\n",
    "    if any(ch.isdigit() for ch in word):\r\n",
    "        return None\r\n",
    "    else:\r\n",
    "        return word"
   ],
   "outputs": [],
   "metadata": {}
  },
  {
   "cell_type": "code",
   "execution_count": null,
   "source": [
    "tweets_df['Ticker'] = tweets_df['Tweets'].apply(lambda x: [find_ticker(word) for word in x.split() if '$' in word])"
   ],
   "outputs": [],
   "metadata": {}
  },
  {
   "cell_type": "code",
   "execution_count": null,
   "source": [
    "tweets_df['Polarity'] = tweets_df['Tweets'].map(lambda tweet: textblob.TextBlob(tweet).sentiment.polarity)\r\n",
    "tweets_df['Result'] = tweets_df['Polarity'].map(lambda pol: '+' if pol > 0 else '-')\r\n",
    "positive = tweets_df[tweets_df.Result == '+'].count()['Tweets']\r\n",
    "negative = tweets_df[tweets_df.Result == '-'].count()['Tweets']\r\n"
   ],
   "outputs": [],
   "metadata": {}
  },
  {
   "cell_type": "code",
   "execution_count": null,
   "source": [
    "tweets_df"
   ],
   "outputs": [],
   "metadata": {}
  },
  {
   "cell_type": "code",
   "execution_count": null,
   "source": [
    "tweets_df['buy'] = tweets_df['Polarity'] >= .3\r\n",
    "tweets_df"
   ],
   "outputs": [],
   "metadata": {}
  },
  {
   "cell_type": "code",
   "execution_count": null,
   "source": [
    "def clean_ticker(row):\r\n",
    "    tickers = [ticker for ticker in row if ticker != None]\r\n",
    "    return tickers\r\n"
   ],
   "outputs": [],
   "metadata": {}
  },
  {
   "cell_type": "code",
   "execution_count": null,
   "source": [
    "tweets_df['buy_list'] = tweets_df['Ticker'].apply(lambda row: clean_ticker(row))\r\n",
    "tweets_df"
   ],
   "outputs": [],
   "metadata": {}
  },
  {
   "cell_type": "code",
   "execution_count": null,
   "source": [
    "def buy_ticker(ticker):\r\n",
    "    print(\"using alpacha....\")\r\n",
    "    symbol_bars = alpaca_api.get_barset(ticker, 'minute', 1).df.iloc[0]\r\n",
    "    symbol_price = symbol_bars[ticker]['close']\r\n",
    "    alpaca_api.submit_order(\r\n",
    "    symbol=ticker,\r\n",
    "    qty=50,\r\n",
    "    side='buy',\r\n",
    "    type='market',\r\n",
    "    time_in_force='gtc',\r\n",
    "    order_class='bracket',\r\n",
    "    stop_loss = {\r\n",
    "        'stop_price': symbol_price * 0.95,\r\n",
    "        'limit_price':  symbol_price * 0.95\r\n",
    "    },\r\n",
    "    take_profit={'limit_price': (symbol_price) * 1.10}\r\n",
    "    )\r\n",
    "    print(f\"Just bought {ticker}...\")"
   ],
   "outputs": [],
   "metadata": {}
  },
  {
   "cell_type": "code",
   "execution_count": null,
   "source": [
    "for _, tweet in tweets_df.iterrows():\r\n",
    "    if tweet['buy'] == True:\r\n",
    "        for ticker in tweet['buy_list']:\r\n",
    "            ds = tweet['created_at']\r\n",
    "            user = tweet['user']\r\n",
    "            print(f\"buy {ticker} at {ds} based on signal from {user}\")\r\n",
    "            buy_ticker(ticker[1:])\r\n",
    "            #try:\r\n",
    "                "
   ],
   "outputs": [],
   "metadata": {}
  },
  {
   "cell_type": "code",
   "execution_count": null,
   "source": [],
   "outputs": [],
   "metadata": {}
  }
 ],
 "metadata": {
  "kernelspec": {
   "name": "python3",
   "display_name": "Python 3.8.5 64-bit ('twitter': conda)"
  },
  "language_info": {
   "codemirror_mode": {
    "name": "ipython",
    "version": 3
   },
   "file_extension": ".py",
   "mimetype": "text/x-python",
   "name": "python",
   "nbconvert_exporter": "python",
   "pygments_lexer": "ipython3",
   "version": "3.8.5"
  },
  "metadata": {
   "interpreter": {
    "hash": "580192abb9759f6b48eb574121bdad9b5763e9c2e87bb769fbfec15a96a21892"
   }
  },
  "orig_nbformat": 2,
  "interpreter": {
   "hash": "e3e3ece91a8922fbcbb3687e54769dd48190c3e23578540fa7907073d287e66c"
  }
 },
 "nbformat": 4,
 "nbformat_minor": 2
}