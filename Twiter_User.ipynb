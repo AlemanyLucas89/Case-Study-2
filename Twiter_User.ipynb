{
 "cells": [
  {
   "cell_type": "code",
   "execution_count": 50,
   "source": [
    "#Description: The purpose of this report is to build a sentiment anlaysis for three specific stocks, Zack Morris, Will Meade, PJ Matlock, Gary, unusual_whales"
   ],
   "outputs": [],
   "metadata": {}
  },
  {
   "cell_type": "code",
   "execution_count": 51,
   "source": [
    "import os\r\n",
    "import requests\r\n",
    "import pandas as pd\r\n",
    "from dotenv import load_dotenv\r\n",
    "import json\r\n",
    "import numpy as np\r\n",
    "import re\r\n",
    "from textblob import TextBlob\r\n",
    "import textblob\r\n",
    "import tweepy\r\n",
    "import datetime, time\r\n",
    "import sys\r\n",
    "import matplotlib.pyplot as plt\r\n",
    "import alpaca_trade_api as tradeapi\r\n",
    "import matplotlib.pyplot as plt4\r\n",
    "from alpaca_trade_api.rest import REST\r\n",
    "%matplotlib inline"
   ],
   "outputs": [],
   "metadata": {}
  },
  {
   "cell_type": "code",
   "execution_count": 52,
   "source": [
    "load_dotenv()"
   ],
   "outputs": [
    {
     "output_type": "execute_result",
     "data": {
      "text/plain": [
       "True"
      ]
     },
     "metadata": {},
     "execution_count": 52
    }
   ],
   "metadata": {}
  },
  {
   "cell_type": "code",
   "execution_count": 53,
   "source": [
    "consumer_key = os.getenv(\"consumer_key\")\r\n",
    "consumer_secret = os.getenv(\"consumer_secret\")\r\n",
    "Access_Token = os.getenv(\"Access_Token\")\r\n",
    "Access_Token_Secret = os.getenv(\"Access_Token_Secret\")"
   ],
   "outputs": [],
   "metadata": {}
  },
  {
   "cell_type": "code",
   "execution_count": 54,
   "source": [
    "auth_handler = tweepy.OAuthHandler(consumer_key, consumer_secret)\r\n",
    "auth_handler.set_access_token(Access_Token, Access_Token_Secret)\r\n",
    "api = tweepy.API(auth_handler, wait_on_rate_limit=True)\r\n"
   ],
   "outputs": [],
   "metadata": {}
  },
  {
   "cell_type": "markdown",
   "source": [
    "### Dictionary for Twitter\r\n",
    "\r\n",
    "['__class__', '__delattr__', '__dict__', '__dir__', '__doc__', '__eq__', '__format__', '__ge__', '__getattribute__', '__getstate__', '__gt__', '__hash__', '__init__', '__init_subclass__', '__le__', '__lt__', '__module__', '__ne__', '__new__', '__reduce__', '__reduce_ex__', '__repr__', '__setattr__', '__sizeof__', '__str__', '__subclasshook__', '__weakref__', '_api', '_json', 'author', 'contributors', 'coordinates', 'created_at', 'destroy', 'display_text_range', 'entities', 'favorite', 'favorite_count', 'favorited', 'full_text', 'geo', 'id', 'id_str', 'in_reply_to_screen_name', 'in_reply_to_status_id', 'in_reply_to_status_id_str', 'in_reply_to_user_id', 'in_reply_to_user_id_str', 'is_quote_status', 'lang', 'parse', 'parse_list', 'place', 'possibly_sensitive', 'retweet', 'retweet_count', 'retweeted', 'retweets', 'source', 'source_url', 'truncated', 'user']"
   ],
   "metadata": {}
  },
  {
   "cell_type": "markdown",
   "source": [
    "TweepError: Twitter error response: status code = 404 (means that the ID does not exist)"
   ],
   "metadata": {}
  },
  {
   "cell_type": "code",
   "execution_count": 86,
   "source": [
    "#Variables to build the Tweepy Cursor\r\n",
    "tweet_list = []\r\n",
    "tweet_amount = 10\r\n"
   ],
   "outputs": [],
   "metadata": {}
  },
  {
   "cell_type": "code",
   "execution_count": 87,
   "source": [
    "#User Dicitionary Loop\r\n",
    "\r\n",
    "user_id = ['unusual_whales','PJ_Matlock','notoriousalerts','Ultra_Calls']\r\n",
    "for user in user_id:\r\n",
    "    print(user)"
   ],
   "outputs": [
    {
     "output_type": "stream",
     "name": "stdout",
     "text": [
      "unusual_whales\n",
      "PJ_Matlock\n",
      "notoriousalerts\n",
      "Ultra_Calls\n"
     ]
    }
   ],
   "metadata": {}
  },
  {
   "cell_type": "code",
   "execution_count": 88,
   "source": [
    "tweets = tweepy.Cursor(api.user_timeline, screen_name=user, include_rts=True, tweet_mode='extended').items(tweet_amount)\r\n"
   ],
   "outputs": [],
   "metadata": {}
  },
  {
   "cell_type": "code",
   "execution_count": 97,
   "source": [
    "for i in tweets:\r\n",
    "    print(i)\r\n",
    "    tweet_dc = {\r\n",
    "        'ID': i.id,\r\n",
    "        'Tweets': i.full_text,\r\n",
    "        'Likes': i.favorite_count\r\n",
    "    }\r\n",
    "    tweets_list.append(tweet_dc)\r\n"
   ],
   "outputs": [],
   "metadata": {}
  },
  {
   "cell_type": "code",
   "execution_count": null,
   "source": [
    "#Orient - Defines which dtype to convert Columns(series into)\r\n",
    "\r\n",
    "Headers = {'Tweets': tweets, 'Like Count':likes, 'Author':user_id}\r\n",
    "Tweet_df = pd.DataFrame.from_dict(Headers, orient= 'index')\r\n",
    "Tweet_df = Tweet_df.transpose()\r\n",
    "Tweet_df\r\n"
   ],
   "outputs": [],
   "metadata": {}
  },
  {
   "cell_type": "code",
   "execution_count": null,
   "source": [
    "for _, row in Tweet_df.iterrows():\r\n",
    "    row['Tweets'] = re.sub('http\\S+', '', row['Tweets'])\r\n",
    "    row['Tweets'] = re.sub('#\\S+', '', row['Tweets'])\r\n",
    "    row['Tweets'] = re.sub('@\\S+', '', row['Tweets'])\r\n",
    "    row['Tweets'] = re.sub('\\\\n', '', row['Tweets'])"
   ],
   "outputs": [],
   "metadata": {}
  }
 ],
 "metadata": {
  "kernelspec": {
   "name": "python3",
   "display_name": "Python 3.8.5 64-bit ('twitter': conda)"
  },
  "language_info": {
   "codemirror_mode": {
    "name": "ipython",
    "version": 3
   },
   "file_extension": ".py",
   "mimetype": "text/x-python",
   "name": "python",
   "nbconvert_exporter": "python",
   "pygments_lexer": "ipython3",
   "version": "3.8.5"
  },
  "metadata": {
   "interpreter": {
    "hash": "580192abb9759f6b48eb574121bdad9b5763e9c2e87bb769fbfec15a96a21892"
   }
  },
  "orig_nbformat": 2,
  "interpreter": {
   "hash": "e3e3ece91a8922fbcbb3687e54769dd48190c3e23578540fa7907073d287e66c"
  }
 },
 "nbformat": 4,
 "nbformat_minor": 2
}